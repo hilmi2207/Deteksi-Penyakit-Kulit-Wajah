{
  "cells": [
    {
      "cell_type": "markdown",
      "metadata": {
        "id": "pWQ1R9qd8im4"
      },
      "source": [
        "# Deteksi Penyakit pada Kulit Wajah Manusia "
      ]
    },
    {
      "cell_type": "markdown",
      "metadata": {
        "id": "AbVDbw4789Ud"
      },
      "source": [
        "## Load Data"
      ]
    },
    {
      "cell_type": "code",
      "execution_count": null,
      "metadata": {
        "id": "sPnUI-O3ec8Y"
      },
      "outputs": [],
      "source": [
        "!pip install -q kaggle"
      ]
    },
    {
      "cell_type": "code",
      "execution_count": null,
      "metadata": {
        "colab": {
          "base_uri": "https://localhost:8080/",
          "height": 92,
          "resources": {
            "http://localhost:8080/nbextensions/google.colab/files.js": {
              "data": "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",
              "headers": [
                [
                  "content-type",
                  "application/javascript"
                ]
              ],
              "ok": true,
              "status": 200,
              "status_text": ""
            }
          }
        },
        "id": "h9JaD_pbfgdm",
        "outputId": "98269d2f-28cc-4965-e806-9f905952d14f"
      },
      "outputs": [
        {
          "data": {
            "text/html": [
              "\n",
              "     <input type=\"file\" id=\"files-f127005d-2743-464b-9496-47b45bd579d1\" name=\"files[]\" multiple disabled\n",
              "        style=\"border:none\" />\n",
              "     <output id=\"result-f127005d-2743-464b-9496-47b45bd579d1\">\n",
              "      Upload widget is only available when the cell has been executed in the\n",
              "      current browser session. Please rerun this cell to enable.\n",
              "      </output>\n",
              "      <script src=\"/nbextensions/google.colab/files.js\"></script> "
            ],
            "text/plain": [
              "<IPython.core.display.HTML object>"
            ]
          },
          "metadata": {},
          "output_type": "display_data"
        },
        {
          "name": "stdout",
          "output_type": "stream",
          "text": [
            "Saving kaggle.json to kaggle.json\n"
          ]
        },
        {
          "data": {
            "text/plain": [
              "{'kaggle.json': b'{\"username\":\"hilmiher\",\"key\":\"c24dffbf6e4185ebb5ef4de87d98c8d4\"}'}"
            ]
          },
          "execution_count": 2,
          "metadata": {},
          "output_type": "execute_result"
        }
      ],
      "source": [
        "from google.colab import files\n",
        "\n",
        "files.upload()"
      ]
    },
    {
      "cell_type": "code",
      "execution_count": null,
      "metadata": {
        "colab": {
          "base_uri": "https://localhost:8080/"
        },
        "id": "vSZv97nlejbL",
        "outputId": "569b8bcc-74db-4551-8f87-b5438548058f"
      },
      "outputs": [
        {
          "name": "stdout",
          "output_type": "stream",
          "text": [
            "mkdir: cannot create directory ‘/root/.kaggle’: File exists\n"
          ]
        }
      ],
      "source": [
        "! mkdir ~/.kaggle\n",
        "\n",
        "! cp kaggle.json ~/.kaggle/"
      ]
    },
    {
      "cell_type": "code",
      "execution_count": null,
      "metadata": {
        "id": "bugM8fJBgRbZ"
      },
      "outputs": [],
      "source": [
        "! chmod 600 ~/.kaggle/kaggle.json"
      ]
    },
    {
      "cell_type": "code",
      "execution_count": null,
      "metadata": {
        "colab": {
          "base_uri": "https://localhost:8080/"
        },
        "id": "58kxvLNYd2N3",
        "outputId": "984a5380-cb24-4088-cbd2-c8290cdaf7fd"
      },
      "outputs": [
        {
          "name": "stdout",
          "output_type": "stream",
          "text": [
            "Downloading face-disease.zip to /content\n",
            " 98% 276M/282M [00:02<00:00, 82.1MB/s]\n",
            "100% 282M/282M [00:03<00:00, 98.3MB/s]\n"
          ]
        }
      ],
      "source": [
        "!kaggle datasets download -d hilmiher/face-disease"
      ]
    },
    {
      "cell_type": "code",
      "execution_count": null,
      "metadata": {
        "id": "2bcCXT_ehLAt"
      },
      "outputs": [],
      "source": [
        "!mkdir dataset"
      ]
    },
    {
      "cell_type": "code",
      "execution_count": null,
      "metadata": {
        "colab": {
          "base_uri": "https://localhost:8080/"
        },
        "id": "_nFkzhLuhOI8",
        "outputId": "8d0569fd-e755-4eaa-c08c-d8faaed2a0ec"
      },
      "outputs": [],
      "source": [
        "!unzip face-disease.zip -d dataset"
      ]
    },
    {
      "cell_type": "markdown",
      "metadata": {
        "id": "0k6gNSkf9OGi"
      },
      "source": [
        "## Image Augmentation"
      ]
    },
    {
      "cell_type": "code",
      "execution_count": null,
      "metadata": {
        "id": "JEjZvuJHSE9b"
      },
      "outputs": [],
      "source": [
        "from tensorflow.keras.preprocessing.image import ImageDataGenerator\n",
        "import os\n",
        "\n",
        "train_dir = os.path.join('/content/dataset/Dataset/train/')\n",
        "val_dir = os.path.join('/content/dataset/Dataset/validation')\n",
        "\n",
        "train_datagen = ImageDataGenerator(rescale=1./225,\n",
        "                                   rotation_range = 20,\n",
        "                                   zoom_range = 0.2,\n",
        "                                   shear_range = 0.2,\n",
        "                                   fill_mode = 'nearest')\n",
        "val_datagen = ImageDataGenerator(rescale=1./225)"
      ]
    },
    {
      "cell_type": "code",
      "execution_count": null,
      "metadata": {
        "colab": {
          "base_uri": "https://localhost:8080/"
        },
        "id": "FeGu0shQYaKg",
        "outputId": "3972e8c0-d966-4708-a2f6-7c48a85af13b"
      },
      "outputs": [
        {
          "name": "stdout",
          "output_type": "stream",
          "text": [
            "Found 1551 images belonging to 9 classes.\n",
            "Found 520 images belonging to 9 classes.\n"
          ]
        }
      ],
      "source": [
        "train_generator = train_datagen.flow_from_directory(\n",
        "    train_dir,\n",
        "    target_size=(150, 150),\n",
        "    batch_size=32,\n",
        "    class_mode='categorical',   \n",
        ")\n",
        "validation_generator = train_datagen.flow_from_directory(\n",
        "    val_dir,\n",
        "    target_size=(150, 150),\n",
        "    batch_size=32,\n",
        "    class_mode='categorical', \n",
        ")"
      ]
    },
    {
      "cell_type": "markdown",
      "metadata": {
        "id": "ylKbd0BZ9Vl2"
      },
      "source": [
        "## Modelling"
      ]
    },
    {
      "cell_type": "markdown",
      "metadata": {
        "id": "ZCwizzby9dQ-"
      },
      "source": [
        "### Transfer Learning MobileNetV2"
      ]
    },
    {
      "cell_type": "code",
      "execution_count": null,
      "metadata": {
        "colab": {
          "base_uri": "https://localhost:8080/"
        },
        "id": "Y8DoLLXTqL84",
        "outputId": "55bae185-2377-4da0-a8ef-4fc0aa279f20"
      },
      "outputs": [
        {
          "name": "stdout",
          "output_type": "stream",
          "text": [
            "Downloading data from https://storage.googleapis.com/tensorflow/keras-applications/mobilenet_v2/mobilenet_v2_weights_tf_dim_ordering_tf_kernels_1.0_160_no_top.h5\n",
            "9412608/9406464 [==============================] - 0s 0us/step\n",
            "9420800/9406464 [==============================] - 0s 0us/step\n"
          ]
        }
      ],
      "source": [
        "import tensorflow as tf\n",
        "\n",
        "image_size = 160\n",
        "IMG_SHAPE = (image_size, image_size, 3)\n",
        "\n",
        "#Create the base model from the pre-trained model MobileNet V2\n",
        "base_model = tf.keras.applications.MobileNetV2(input_shape=IMG_SHAPE,\n",
        "                                              include_top=False,\n",
        "                                              weights='imagenet')\n",
        "base_model.trainable = False"
      ]
    },
    {
      "cell_type": "markdown",
      "metadata": {
        "id": "wSB3kmuV9k5h"
      },
      "source": [
        "### Sequential Model"
      ]
    },
    {
      "cell_type": "code",
      "execution_count": null,
      "metadata": {
        "id": "-u-sCVcvb0Qj"
      },
      "outputs": [],
      "source": [
        "model = tf.keras.models.Sequential([\n",
        "    # Note the input shape is the desired size of the image 300x300 with 3 bytes color\n",
        "    # This is the first convolution\n",
        "    base_model,\n",
        "    tf.keras.layers.Conv2D(16, (3,3), activation='relu'),\n",
        "    tf.keras.layers.MaxPooling2D(2, 2),\n",
        "    \n",
        "    # Flatten the results to feed into a DNN\n",
        "    tf.keras.layers.Flatten(),\n",
        "    \n",
        "    tf.keras.layers.Dense(512, activation='relu'),\n",
        "    tf.keras.layers.Dense(64, activation='relu'),  \n",
        "    tf.keras.layers.Dense(9, activation='softmax')\n",
        "])"
      ]
    },
    {
      "cell_type": "code",
      "execution_count": null,
      "metadata": {
        "colab": {
          "base_uri": "https://localhost:8080/"
        },
        "id": "Ve07GnbUdyeh",
        "outputId": "b6caa416-852d-4f56-a06c-dd3ac5b738b7"
      },
      "outputs": [
        {
          "name": "stdout",
          "output_type": "stream",
          "text": [
            "Model: \"sequential_1\"\n",
            "_________________________________________________________________\n",
            " Layer (type)                Output Shape              Param #   \n",
            "=================================================================\n",
            " mobilenetv2_1.00_160 (Funct  (None, 5, 5, 1280)       2257984   \n",
            " ional)                                                          \n",
            "                                                                 \n",
            " conv2d_1 (Conv2D)           (None, 3, 3, 16)          184336    \n",
            "                                                                 \n",
            " max_pooling2d_1 (MaxPooling  (None, 1, 1, 16)         0         \n",
            " 2D)                                                             \n",
            "                                                                 \n",
            " flatten_1 (Flatten)         (None, 16)                0         \n",
            "                                                                 \n",
            " dense_3 (Dense)             (None, 512)               8704      \n",
            "                                                                 \n",
            " dense_4 (Dense)             (None, 64)                32832     \n",
            "                                                                 \n",
            " dense_5 (Dense)             (None, 9)                 585       \n",
            "                                                                 \n",
            "=================================================================\n",
            "Total params: 2,484,441\n",
            "Trainable params: 226,457\n",
            "Non-trainable params: 2,257,984\n",
            "_________________________________________________________________\n"
          ]
        }
      ],
      "source": [
        "model.summary()"
      ]
    },
    {
      "cell_type": "markdown",
      "metadata": {
        "id": "4PcLK4Kj9s7r"
      },
      "source": [
        "### Compile and Training"
      ]
    },
    {
      "cell_type": "code",
      "execution_count": null,
      "metadata": {
        "id": "yk-uO8sfb0qP"
      },
      "outputs": [],
      "source": [
        "from tensorflow.keras.optimizers import RMSprop\n",
        "\n",
        "model.compile(optimizer=RMSprop(learning_rate=1e-4),\n",
        "              loss = 'categorical_crossentropy',\n",
        "              metrics = ['accuracy'])"
      ]
    },
    {
      "cell_type": "code",
      "execution_count": null,
      "metadata": {
        "colab": {
          "base_uri": "https://localhost:8080/"
        },
        "id": "ogzJyTBJb39U",
        "outputId": "aeee3d12-9488-4309-ee47-8448639faa6e"
      },
      "outputs": [
        {
          "name": "stdout",
          "output_type": "stream",
          "text": [
            "Epoch 1/70\n",
            "28/49 [================>.............] - ETA: 12s - loss: 2.1075 - accuracy: 0.2059"
          ]
        },
        {
          "name": "stderr",
          "output_type": "stream",
          "text": [
            "/usr/local/lib/python3.7/dist-packages/PIL/Image.py:960: UserWarning: Palette images with Transparency expressed in bytes should be converted to RGBA images\n",
            "  \"Palette images with Transparency expressed in bytes should be \"\n"
          ]
        },
        {
          "name": "stdout",
          "output_type": "stream",
          "text": [
            "49/49 [==============================] - 43s 810ms/step - loss: 2.0259 - accuracy: 0.2444 - val_loss: 1.9556 - val_accuracy: 0.2827\n",
            "Epoch 2/70\n",
            "49/49 [==============================] - 38s 785ms/step - loss: 1.6704 - accuracy: 0.4049 - val_loss: 1.8608 - val_accuracy: 0.3212\n",
            "Epoch 3/70\n",
            "49/49 [==============================] - 38s 777ms/step - loss: 1.4718 - accuracy: 0.4745 - val_loss: 1.5767 - val_accuracy: 0.4154\n",
            "Epoch 4/70\n",
            "49/49 [==============================] - 39s 788ms/step - loss: 1.3283 - accuracy: 0.5358 - val_loss: 1.5338 - val_accuracy: 0.4712\n",
            "Epoch 5/70\n",
            "49/49 [==============================] - 37s 764ms/step - loss: 1.2334 - accuracy: 0.5667 - val_loss: 1.5331 - val_accuracy: 0.4558\n",
            "Epoch 6/70\n",
            "49/49 [==============================] - 38s 769ms/step - loss: 1.1647 - accuracy: 0.6003 - val_loss: 1.4801 - val_accuracy: 0.5019\n",
            "Epoch 7/70\n",
            "49/49 [==============================] - 37s 770ms/step - loss: 1.0860 - accuracy: 0.6157 - val_loss: 1.4870 - val_accuracy: 0.4769\n",
            "Epoch 8/70\n",
            "49/49 [==============================] - 38s 772ms/step - loss: 1.0140 - accuracy: 0.6499 - val_loss: 1.5328 - val_accuracy: 0.4654\n",
            "Epoch 9/70\n",
            "49/49 [==============================] - 38s 774ms/step - loss: 0.9573 - accuracy: 0.6667 - val_loss: 1.5088 - val_accuracy: 0.4981\n",
            "Epoch 10/70\n",
            "49/49 [==============================] - 38s 788ms/step - loss: 0.9110 - accuracy: 0.6828 - val_loss: 1.4814 - val_accuracy: 0.5058\n",
            "Epoch 11/70\n",
            "49/49 [==============================] - 38s 781ms/step - loss: 0.8780 - accuracy: 0.6983 - val_loss: 1.4058 - val_accuracy: 0.4962\n",
            "Epoch 12/70\n",
            "49/49 [==============================] - 37s 767ms/step - loss: 0.8097 - accuracy: 0.7189 - val_loss: 1.5056 - val_accuracy: 0.4904\n",
            "Epoch 13/70\n",
            "49/49 [==============================] - 37s 761ms/step - loss: 0.7849 - accuracy: 0.7415 - val_loss: 1.4302 - val_accuracy: 0.5077\n",
            "Epoch 14/70\n",
            "49/49 [==============================] - 38s 779ms/step - loss: 0.7559 - accuracy: 0.7466 - val_loss: 1.4650 - val_accuracy: 0.5192\n",
            "Epoch 15/70\n",
            "49/49 [==============================] - 38s 785ms/step - loss: 0.6918 - accuracy: 0.7718 - val_loss: 1.5662 - val_accuracy: 0.4904\n",
            "Epoch 16/70\n",
            "49/49 [==============================] - 37s 764ms/step - loss: 0.6603 - accuracy: 0.8008 - val_loss: 1.4291 - val_accuracy: 0.5250\n",
            "Epoch 17/70\n",
            "49/49 [==============================] - 38s 771ms/step - loss: 0.6249 - accuracy: 0.7963 - val_loss: 1.5047 - val_accuracy: 0.5365\n",
            "Epoch 18/70\n",
            "49/49 [==============================] - 37s 763ms/step - loss: 0.5867 - accuracy: 0.8046 - val_loss: 1.5589 - val_accuracy: 0.4981\n",
            "Epoch 19/70\n",
            "49/49 [==============================] - 37s 747ms/step - loss: 0.5590 - accuracy: 0.8124 - val_loss: 1.5507 - val_accuracy: 0.5154\n",
            "Epoch 20/70\n",
            "49/49 [==============================] - 37s 769ms/step - loss: 0.5398 - accuracy: 0.8208 - val_loss: 1.6447 - val_accuracy: 0.5135\n",
            "Epoch 21/70\n",
            "49/49 [==============================] - 38s 772ms/step - loss: 0.5295 - accuracy: 0.8182 - val_loss: 1.6746 - val_accuracy: 0.5365\n",
            "Epoch 22/70\n",
            "49/49 [==============================] - 38s 768ms/step - loss: 0.4849 - accuracy: 0.8401 - val_loss: 1.6483 - val_accuracy: 0.5250\n",
            "Epoch 23/70\n",
            "49/49 [==============================] - 37s 758ms/step - loss: 0.4677 - accuracy: 0.8362 - val_loss: 1.7085 - val_accuracy: 0.5096\n",
            "Epoch 24/70\n",
            "49/49 [==============================] - 38s 787ms/step - loss: 0.4454 - accuracy: 0.8491 - val_loss: 1.7072 - val_accuracy: 0.4904\n",
            "Epoch 25/70\n",
            "49/49 [==============================] - 38s 771ms/step - loss: 0.4123 - accuracy: 0.8588 - val_loss: 1.7213 - val_accuracy: 0.5038\n",
            "Epoch 26/70\n",
            "49/49 [==============================] - 38s 767ms/step - loss: 0.3921 - accuracy: 0.8801 - val_loss: 1.7333 - val_accuracy: 0.5096\n",
            "Epoch 27/70\n",
            "49/49 [==============================] - 38s 775ms/step - loss: 0.3936 - accuracy: 0.8762 - val_loss: 1.8776 - val_accuracy: 0.4981\n",
            "Epoch 28/70\n",
            "49/49 [==============================] - 38s 785ms/step - loss: 0.3592 - accuracy: 0.8917 - val_loss: 1.7815 - val_accuracy: 0.5019\n",
            "Epoch 29/70\n",
            "49/49 [==============================] - 38s 772ms/step - loss: 0.3521 - accuracy: 0.8872 - val_loss: 2.0278 - val_accuracy: 0.4731\n",
            "Epoch 30/70\n",
            "49/49 [==============================] - 38s 780ms/step - loss: 0.3215 - accuracy: 0.8930 - val_loss: 1.8283 - val_accuracy: 0.5173\n",
            "Epoch 31/70\n",
            "49/49 [==============================] - 38s 784ms/step - loss: 0.3264 - accuracy: 0.8904 - val_loss: 1.8927 - val_accuracy: 0.5135\n",
            "Epoch 32/70\n",
            "49/49 [==============================] - 38s 787ms/step - loss: 0.2740 - accuracy: 0.9110 - val_loss: 1.7515 - val_accuracy: 0.5346\n",
            "Epoch 33/70\n",
            "49/49 [==============================] - 38s 784ms/step - loss: 0.3102 - accuracy: 0.9033 - val_loss: 1.8266 - val_accuracy: 0.5288\n",
            "Epoch 34/70\n",
            "49/49 [==============================] - 37s 749ms/step - loss: 0.2913 - accuracy: 0.9046 - val_loss: 1.9513 - val_accuracy: 0.4885\n",
            "Epoch 35/70\n",
            "49/49 [==============================] - 37s 765ms/step - loss: 0.2508 - accuracy: 0.9168 - val_loss: 2.1294 - val_accuracy: 0.4923\n",
            "Epoch 36/70\n",
            "49/49 [==============================] - 37s 759ms/step - loss: 0.2456 - accuracy: 0.9213 - val_loss: 2.0304 - val_accuracy: 0.4865\n",
            "Epoch 37/70\n",
            "49/49 [==============================] - 38s 783ms/step - loss: 0.2356 - accuracy: 0.9252 - val_loss: 1.9535 - val_accuracy: 0.5135\n",
            "Epoch 38/70\n",
            "49/49 [==============================] - 37s 768ms/step - loss: 0.2458 - accuracy: 0.9207 - val_loss: 1.9922 - val_accuracy: 0.5288\n",
            "Epoch 39/70\n",
            "49/49 [==============================] - 37s 743ms/step - loss: 0.2355 - accuracy: 0.9278 - val_loss: 2.0261 - val_accuracy: 0.5250\n",
            "Epoch 40/70\n",
            "49/49 [==============================] - 38s 775ms/step - loss: 0.1979 - accuracy: 0.9304 - val_loss: 2.2607 - val_accuracy: 0.5077\n",
            "Epoch 41/70\n",
            "49/49 [==============================] - 37s 756ms/step - loss: 0.2165 - accuracy: 0.9387 - val_loss: 2.1309 - val_accuracy: 0.5077\n",
            "Epoch 42/70\n",
            "49/49 [==============================] - 37s 753ms/step - loss: 0.2398 - accuracy: 0.9226 - val_loss: 1.9987 - val_accuracy: 0.5327\n",
            "Epoch 43/70\n",
            "49/49 [==============================] - 37s 748ms/step - loss: 0.1951 - accuracy: 0.9375 - val_loss: 1.9756 - val_accuracy: 0.5212\n",
            "Epoch 44/70\n",
            "49/49 [==============================] - 38s 769ms/step - loss: 0.1776 - accuracy: 0.9439 - val_loss: 2.1248 - val_accuracy: 0.5231\n",
            "Epoch 45/70\n",
            "49/49 [==============================] - 39s 784ms/step - loss: 0.1899 - accuracy: 0.9362 - val_loss: 2.2015 - val_accuracy: 0.5096\n",
            "Epoch 46/70\n",
            "49/49 [==============================] - 37s 760ms/step - loss: 0.1830 - accuracy: 0.9413 - val_loss: 2.2480 - val_accuracy: 0.5000\n",
            "Epoch 47/70\n",
            "49/49 [==============================] - 39s 793ms/step - loss: 0.1682 - accuracy: 0.9471 - val_loss: 2.1246 - val_accuracy: 0.5212\n",
            "Epoch 48/70\n",
            "49/49 [==============================] - 36s 735ms/step - loss: 0.1732 - accuracy: 0.9426 - val_loss: 2.2380 - val_accuracy: 0.5288\n",
            "Epoch 49/70\n",
            "49/49 [==============================] - 37s 750ms/step - loss: 0.1899 - accuracy: 0.9368 - val_loss: 2.1495 - val_accuracy: 0.5173\n",
            "Epoch 50/70\n",
            "49/49 [==============================] - 38s 788ms/step - loss: 0.1736 - accuracy: 0.9484 - val_loss: 2.3639 - val_accuracy: 0.4808\n",
            "Epoch 51/70\n",
            "49/49 [==============================] - 37s 767ms/step - loss: 0.1436 - accuracy: 0.9523 - val_loss: 2.3249 - val_accuracy: 0.5019\n",
            "Epoch 52/70\n",
            "49/49 [==============================] - 37s 770ms/step - loss: 0.1507 - accuracy: 0.9516 - val_loss: 2.3497 - val_accuracy: 0.5154\n",
            "Epoch 53/70\n",
            "49/49 [==============================] - 39s 787ms/step - loss: 0.1677 - accuracy: 0.9426 - val_loss: 2.3609 - val_accuracy: 0.4885\n",
            "Epoch 54/70\n",
            "49/49 [==============================] - 38s 786ms/step - loss: 0.1624 - accuracy: 0.9433 - val_loss: 2.3116 - val_accuracy: 0.5231\n",
            "Epoch 55/70\n",
            "49/49 [==============================] - 38s 781ms/step - loss: 0.1548 - accuracy: 0.9478 - val_loss: 2.4859 - val_accuracy: 0.4923\n",
            "Epoch 56/70\n",
            "49/49 [==============================] - 38s 766ms/step - loss: 0.1325 - accuracy: 0.9549 - val_loss: 2.4276 - val_accuracy: 0.5038\n",
            "Epoch 57/70\n",
            "49/49 [==============================] - 37s 753ms/step - loss: 0.1448 - accuracy: 0.9516 - val_loss: 2.2677 - val_accuracy: 0.5192\n",
            "Epoch 58/70\n",
            "49/49 [==============================] - 37s 757ms/step - loss: 0.1231 - accuracy: 0.9613 - val_loss: 2.4567 - val_accuracy: 0.5096\n",
            "Epoch 59/70\n",
            "49/49 [==============================] - 39s 791ms/step - loss: 0.1379 - accuracy: 0.9587 - val_loss: 2.5524 - val_accuracy: 0.4942\n",
            "Epoch 60/70\n",
            "49/49 [==============================] - 37s 758ms/step - loss: 0.1379 - accuracy: 0.9562 - val_loss: 2.4872 - val_accuracy: 0.4942\n",
            "Epoch 61/70\n",
            "49/49 [==============================] - 38s 786ms/step - loss: 0.1426 - accuracy: 0.9465 - val_loss: 2.3868 - val_accuracy: 0.5192\n",
            "Epoch 62/70\n",
            "49/49 [==============================] - 39s 789ms/step - loss: 0.1205 - accuracy: 0.9626 - val_loss: 2.3884 - val_accuracy: 0.5096\n",
            "Epoch 63/70\n",
            "49/49 [==============================] - 38s 786ms/step - loss: 0.1088 - accuracy: 0.9658 - val_loss: 2.4390 - val_accuracy: 0.5154\n",
            "Epoch 64/70\n",
            "49/49 [==============================] - 38s 780ms/step - loss: 0.1128 - accuracy: 0.9639 - val_loss: 2.7016 - val_accuracy: 0.5000\n",
            "Epoch 65/70\n",
            "49/49 [==============================] - 37s 765ms/step - loss: 0.1166 - accuracy: 0.9607 - val_loss: 2.4896 - val_accuracy: 0.5154\n",
            "Epoch 66/70\n",
            "49/49 [==============================] - 38s 787ms/step - loss: 0.1293 - accuracy: 0.9581 - val_loss: 2.6407 - val_accuracy: 0.4942\n",
            "Epoch 67/70\n",
            "49/49 [==============================] - 38s 768ms/step - loss: 0.1002 - accuracy: 0.9645 - val_loss: 2.7755 - val_accuracy: 0.5154\n",
            "Epoch 68/70\n",
            "49/49 [==============================] - 39s 795ms/step - loss: 0.1191 - accuracy: 0.9632 - val_loss: 2.6096 - val_accuracy: 0.5231\n",
            "Epoch 69/70\n",
            "49/49 [==============================] - 39s 795ms/step - loss: 0.1196 - accuracy: 0.9594 - val_loss: 2.6886 - val_accuracy: 0.5000\n",
            "Epoch 70/70\n",
            "49/49 [==============================] - 39s 801ms/step - loss: 0.0921 - accuracy: 0.9729 - val_loss: 2.8860 - val_accuracy: 0.5038\n"
          ]
        }
      ],
      "source": [
        "history = model.fit(train_generator,\n",
        "                    validation_data = validation_generator,\n",
        "                    epochs = 70,\n",
        "                    verbose=1)"
      ]
    },
    {
      "cell_type": "markdown",
      "metadata": {
        "id": "3kdqEBsm958C"
      },
      "source": [
        "### Save Model"
      ]
    },
    {
      "cell_type": "code",
      "execution_count": null,
      "metadata": {
        "colab": {
          "base_uri": "https://localhost:8080/"
        },
        "id": "m9d9Uz6UKm0O",
        "outputId": "6944e8f6-5718-40a8-86ec-e2607efe19df"
      },
      "outputs": [
        {
          "name": "stderr",
          "output_type": "stream",
          "text": [
            "/usr/local/lib/python3.7/dist-packages/keras/engine/functional.py:1410: CustomMaskWarning: Custom mask layers require a config and must override get_config. When loading, the custom mask layer must be passed to the custom_objects argument.\n",
            "  layer_config = serialize_layer_fn(layer)\n"
          ]
        }
      ],
      "source": [
        "model.save('saved_model/my_model.h5')"
      ]
    },
    {
      "cell_type": "markdown",
      "metadata": {
        "id": "nZ2LNJQ7-QQL"
      },
      "source": [
        "### Training Result Chart"
      ]
    },
    {
      "cell_type": "code",
      "execution_count": null,
      "metadata": {
        "colab": {
          "base_uri": "https://localhost:8080/",
          "height": 564
        },
        "id": "u92qGZkYm638",
        "outputId": "3ea30cd8-653c-4a0a-ca04-93643536629c"
      },
      "outputs": [
        {
          "data": {
            "text/plain": [
              "Text(0.5, 1.0, 'Training and validation loss')"
            ]
          },
          "execution_count": 27,
          "metadata": {},
          "output_type": "execute_result"
        },
        {
          "data": {
            "image/png": "[encoded data removed]",
            "text/plain": [
              "<Figure size 432x288 with 1 Axes>"
            ]
          },
          "metadata": {
            "needs_background": "light"
          },
          "output_type": "display_data"
        },
        {
          "data": {
            "image/png": "[encoded data removed]",
            "text/plain": [
              "<Figure size 432x288 with 1 Axes>"
            ]
          },
          "metadata": {
            "needs_background": "light"
          },
          "output_type": "display_data"
        }
      ],
      "source": [
        "import matplotlib.pyplot as plt\n",
        "# Retrieve a list of accuracy results on training and validation data\n",
        "# sets for each training epoch\n",
        "acc = history.history['accuracy']\n",
        "val_acc = history.history['val_accuracy']\n",
        "\n",
        "# Retrieve a list of list results on training and validation data\n",
        "# sets for each training epoch\n",
        "loss = history.history['loss']\n",
        "val_loss = history.history['val_loss']\n",
        "\n",
        "# Get number of epochs\n",
        "epochs = range(len(acc))\n",
        "\n",
        "# Plot training and validation accuracy per epoch\n",
        "plt.plot(epochs, acc)\n",
        "plt.plot(epochs, val_acc)\n",
        "plt.title('Training and validation accuracy')\n",
        "\n",
        "plt.figure()\n",
        "\n",
        "# Plot training and validation loss per epoch\n",
        "plt.plot(epochs, loss)\n",
        "plt.plot(epochs, val_loss)\n",
        "plt.title('Training and validation loss')"
      ]
    },
    {
      "cell_type": "markdown",
      "metadata": {
        "id": "sg8skhOy9_1w"
      },
      "source": [
        "## Model Testing"
      ]
    },
    {
      "cell_type": "code",
      "execution_count": null,
      "metadata": {
        "id": "Dqoryr-tb9jd"
      },
      "outputs": [],
      "source": [
        "import numpy as np\n",
        "import tensorflow as tf\n",
        "from google.colab import files\n",
        "from keras.preprocessing import image\n",
        "import matplotlib.pyplot as plt\n",
        "import matplotlib.image as mpimg\n",
        "%matplotlib inline\n",
        "from PIL import Image\n",
        "\n",
        "new_model = tf.keras.models.load_model('/content/my_model.h5')\n",
        "labels = ['blackhead', 'eksim', 'flek hitam', 'herpes', 'jerawat', 'milia', 'panu', 'rosacea', 'tinea fasialis']\n",
        "input_size = (160,160)\n",
        "def preprocess(img,input_size):\n",
        "    nimg = img.convert('RGB').resize(input_size, resample= 0)\n",
        "    img_arr = (np.array(nimg))/255\n",
        "    return img_arr\n",
        "def reshape(imgs_arr):\n",
        "    return np.stack(imgs_arr, axis=0)\n",
        "im = Image.open('/content/acne-cystic-34.jpg')\n",
        "X = preprocess(im,input_size)\n",
        "X = reshape([X])\n",
        "y = new_model.predict(X)\n",
        "\n"
      ]
    },
    {
      "cell_type": "code",
      "execution_count": null,
      "metadata": {
        "colab": {
          "base_uri": "https://localhost:8080/"
        },
        "id": "4fK5srsnd1Hy",
        "outputId": "c37cd7f8-f66e-4a6e-d243-478f4ad5db63"
      },
      "outputs": [
        {
          "name": "stdout",
          "output_type": "stream",
          "text": [
            "jerawat 0.9999988\n"
          ]
        }
      ],
      "source": [
        "print( labels[np.argmax(y)], np.max(y) )"
      ]
    }
  ],
  "metadata": {
    "accelerator": "GPU",
    "colab": {
      "collapsed_sections": [],
      "name": "Copy of Capstone project.ipynb",
      "provenance": []
    },
    "kernelspec": {
      "display_name": "Python 3",
      "name": "python3"
    },
    "language_info": {
      "name": "python"
    }
  },
  "nbformat": 4,
  "nbformat_minor": 0
}
